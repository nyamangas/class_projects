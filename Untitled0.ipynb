{
  "nbformat": 4,
  "nbformat_minor": 0,
  "metadata": {
    "colab": {
      "provenance": [],
      "authorship_tag": "ABX9TyNj8uWWu+UutWXUn2Hy5xt8",
      "include_colab_link": true
    },
    "kernelspec": {
      "name": "python3",
      "display_name": "Python 3"
    },
    "language_info": {
      "name": "python"
    }
  },
  "cells": [
    {
      "cell_type": "markdown",
      "metadata": {
        "id": "view-in-github",
        "colab_type": "text"
      },
      "source": [
        "<a href=\"https://colab.research.google.com/github/nyamangas/class_projects/blob/main/Untitled0.ipynb\" target=\"_parent\"><img src=\"https://colab.research.google.com/assets/colab-badge.svg\" alt=\"Open In Colab\"/></a>"
      ]
    },
    {
      "cell_type": "code",
      "execution_count": null,
      "metadata": {
        "id": "7IDFjb9qdh2S"
      },
      "outputs": [],
      "source": []
    },
    {
      "cell_type": "markdown",
      "source": [
        "import tkinter as tk\n",
        "from tkinter import ttk\n",
        "import time\n",
        "import math\n",
        "import winsound  # For system notifications on Windows\n",
        "\n",
        "class PomodoroTimer:\n",
        "    def __init__(self, master):\n",
        "        self.master = master\n",
        "        master.title(\"Pomodoro Timer\")\n",
        "\n",
        "        self.work_time = 25 * 60  # 25 minutes in seconds\n",
        "        self.break_time = 5 * 60   # 5 minutes in seconds\n",
        "        self.current_time = self.work_time\n",
        "        self.is_running = False\n",
        "        self.is_work_period = True\n",
        "\n",
        "        # Circular Countdown Canvas\n",
        "        self.canvas = tk.Canvas(master, width=200, height=200, bg=\"white\", highlightthickness=0)\n",
        "        self.canvas.pack(pady=20)\n",
        "        self.circle = self.canvas.create_oval(10, 10, 190, 190, outline=\"blue\", width=3)\n",
        "        self.time_text = self.canvas.create_text(100, 100, text=\"25:00\", font=(\"Helvetica\", 24))\n",
        "\n",
        "        # Buttons\n",
        "        self.start_button = ttk.Button(master, text=\"Start\", command=self.start_timer)\n",
        "        self.start_button.pack(side=tk.LEFT, padx=5)\n",
        "\n",
        "        self.pause_button = ttk.Button(master, text=\"Pause\", command=self.pause_timer, state=tk.DISABLED)\n",
        "        self.pause_button.pack(side=tk.LEFT, padx=5)\n",
        "\n",
        "        self.reset_button = ttk.Button(master, text=\"Reset\", command=self.reset_timer)\n",
        "        self.reset_button.pack(side=tk.LEFT, padx=5)\n",
        "        \n",
        "        # Style\n",
        "        style = ttk.Style()\n",
        "        style.theme_use('clam') #or 'alt'\n",
        "        style.configure('TButton', font=('Calibri', 12), padding=6)\n",
        "\n",
        "    def start_timer(self):\n",
        "        if not self.is_running:\n",
        "            self.is_running = True\n",
        "            self.start_button.config(state=tk.DISABLED)\n",
        "            self.pause_button.config(state=tk.NORMAL)\n",
        "            self.update_timer()\n",
        "\n",
        "    def pause_timer(self):\n",
        "        self.is_running = False\n",
        "        self.start_button.config(state=tk.NORMAL)\n",
        "        self.pause_button.config(state=tk.DISABLED)\n",
        "\n",
        "    def reset_timer(self):\n",
        "        self.is_running = False\n",
        "        self.is_work_period = True\n",
        "        self.current_time = self.work_time\n",
        "        self.update_display()\n",
        "        self.start_button.config(state=tk.NORMAL)\n",
        "        self.pause_button.config(state=tk.DISABLED)\n",
        "\n",
        "    def update_timer(self):\n",
        "        if self.is_running:\n",
        "            if self.current_time > 0:\n",
        "                self.current_time -= 1\n",
        "                self.update_display()\n",
        "                self.master.after(1000, self.update_timer)  # Update every second\n",
        "            else:\n",
        "                self.timer_complete()\n",
        "\n",
        "    def update_display(self):\n",
        "        minutes = self.current_time // 60\n",
        "        seconds = self.current_time % 60\n",
        "        time_str = f\"{minutes:02}:{seconds:02}\"\n",
        "        self.canvas.itemconfig(self.time_text, text=time_str)\n",
        "\n",
        "        # Update the circular progress\n",
        "        angle = (self.current_time / (self.work_time if self.is_work_period else self.break_time)) * 360\n",
        "        self.canvas.itemconfig(self.circle, extent=angle)\n",
        "\n",
        "    def timer_complete(self):\n",
        "        self.is_running = False\n",
        "        winsound.Beep(1000, 500)  # Play a beep sound (Windows only)\n",
        "        if self.is_work_period:\n",
        "            self.is_work_period = False\n",
        "            self.current_time = self.break_time\n",
        "            self.master.title(\"Break Time!\")\n",
        "        else:\n",
        "            self.is_work_period = True\n",
        "            self.current_time = self.work_time\n",
        "            self.master.title(\"Pomodoro Timer\")\n",
        "        self.update_display()\n",
        "        self.start_button.config(state=tk.NORMAL)\n",
        "\n",
        "root = tk.Tk()\n",
        "timer = PomodoroTimer(root)\n",
        "root.mainloop()"
      ],
      "metadata": {
        "id": "jhsUk35edmVd"
      }
    },
    {
      "cell_type": "code",
      "source": [],
      "metadata": {
        "id": "N01OQ266dsVu"
      },
      "execution_count": null,
      "outputs": []
    },
    {
      "cell_type": "code",
      "source": [],
      "metadata": {
        "id": "TMbW_eVLds8B"
      },
      "execution_count": null,
      "outputs": []
    }
  ]
}